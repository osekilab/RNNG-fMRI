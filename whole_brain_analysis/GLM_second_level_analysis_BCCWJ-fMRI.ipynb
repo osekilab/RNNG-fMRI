{
 "cells": [
  {
   "attachments": {},
   "cell_type": "markdown",
   "id": "598c292f",
   "metadata": {},
   "source": [
    "# Whole Brain Analysis: GLM second level analysis"
   ]
  },
  {
   "attachments": {},
   "cell_type": "markdown",
   "id": "20183ac9",
   "metadata": {},
   "source": [
    "## Import"
   ]
  },
  {
   "cell_type": "code",
   "execution_count": null,
   "id": "3e4092b1",
   "metadata": {},
   "outputs": [],
   "source": [
    "import pandas as pd\n",
    "import numpy as np\n",
    "\n",
    "from nilearn import plotting\n",
    "from nilearn.glm.second_level import SecondLevelModel\n",
    "from nilearn.image import threshold_img\n",
    "from nilearn.glm import threshold_stats_img\n",
    "from nilearn.image import resample_to_img\n",
    "from nilearn.input_data import NiftiMasker, NiftiLabelsMasker\n",
    "\n",
    "import glob\n",
    "from natsort import natsorted\n",
    "\n",
    "import matplotlib.pyplot as plt\n",
    "from atlasreader import create_output"
   ]
  },
  {
   "cell_type": "code",
   "execution_count": null,
   "id": "63e937d5",
   "metadata": {},
   "outputs": [],
   "source": [
    "sample = '../data/nii_wb/sub30/swu20211222114602_BCCWJ30_7801_EPI_BCCWJ_A_s501.nii'"
   ]
  },
  {
   "attachments": {},
   "cell_type": "markdown",
   "id": "c7d7f408",
   "metadata": {},
   "source": [
    "## Atlas (masker)"
   ]
  },
  {
   "cell_type": "code",
   "execution_count": null,
   "id": "f883226e",
   "metadata": {},
   "outputs": [],
   "source": [
    "Yeo = './Yeo2011_7Networks_MNI152_FreeSurferConformed1mm_LiberalMask.nii.gz'\n",
    "resampled_Yeo = resample_to_img(source_img=Yeo, target_img=sample,interpolation='nearest')\n",
    "\n",
    "parcelation_masker = NiftiLabelsMasker(labels_img=resampled_Yeo)\n",
    "time_series = parcelation_masker.fit_transform(sample)\n",
    "resampled_yeo_binary = parcelation_masker.inverse_transform([[1,1,1,1,1,1,1]])"
   ]
  },
  {
   "attachments": {},
   "cell_type": "markdown",
   "id": "f8fbda2f",
   "metadata": {},
   "source": [
    "## Word Rate"
   ]
  },
  {
   "cell_type": "code",
   "execution_count": null,
   "id": "5da86606",
   "metadata": {},
   "outputs": [],
   "source": [
    "bccwj_word_rate_files = natsorted(glob.glob(f\"../data/glm/word_rate/*word_rate*\"))\n",
    "design_matrix = pd.DataFrame([1] * len(bccwj_word_rate_files), columns=['intercept'])\n",
    "\n",
    "bccwj_word_rate_model = SecondLevelModel(smoothing_fwhm=8.0, mask_img=resampled_yeo_binary)\n",
    "bccwj_word_rate_model = bccwj_word_rate_model.fit(bccwj_word_rate_files, design_matrix=design_matrix)\n",
    "\n",
    "bccwj_word_rate_map = bccwj_word_rate_model.compute_contrast(output_type= 'z_score')"
   ]
  },
  {
   "cell_type": "code",
   "execution_count": null,
   "id": "20c8f955",
   "metadata": {},
   "outputs": [],
   "source": [
    "bccwj_word_rate_thresholded, bccwj_word_rate_threshold = threshold_stats_img(bccwj_word_rate_map, alpha=.05, height_control = 'fdr', two_sided=False, cluster_threshold=50)\n",
    "print(bccwj_word_rate_threshold)\n",
    "plotting.plot_glass_brain(bccwj_word_rate_thresholded,plot_abs=False, threshold = bccwj_word_rate_threshold, display_mode='lyrz',colorbar=True)\n",
    "plt.savefig('word_rate.png')"
   ]
  },
  {
   "cell_type": "code",
   "execution_count": null,
   "id": "136b487a",
   "metadata": {},
   "outputs": [],
   "source": [
    "create_output(bccwj_word_rate_thresholded, cluster_extent=3)"
   ]
  },
  {
   "cell_type": "code",
   "execution_count": null,
   "id": "d893ff41",
   "metadata": {},
   "outputs": [],
   "source": [
    "roi_word_rate_peak = pd.read_csv('./atlasreader_peaks.csv')\n",
    "roi_word_rate_peak"
   ]
  },
  {
   "cell_type": "code",
   "execution_count": null,
   "id": "047d85cc",
   "metadata": {},
   "outputs": [],
   "source": [
    "print(roi_word_rate_peak.to_latex())"
   ]
  },
  {
   "attachments": {},
   "cell_type": "markdown",
   "id": "75aedc24",
   "metadata": {},
   "source": [
    "## Word Length"
   ]
  },
  {
   "cell_type": "code",
   "execution_count": null,
   "id": "9461c091",
   "metadata": {},
   "outputs": [],
   "source": [
    "bccwj_word_length_files = natsorted(glob.glob(f\"../data/glm/word_length/*word_length*\"))\n",
    "design_matrix = pd.DataFrame([1] * len(bccwj_word_length_files), columns=['intercept'])\n",
    "\n",
    "bccwj_word_length_model = SecondLevelModel(smoothing_fwhm=8.0, mask_img=resampled_yeo_binary) \n",
    "bccwj_word_length_model = bccwj_word_length_model.fit(bccwj_word_length_files, design_matrix=design_matrix)\n",
    "bccwj_word_length_map = bccwj_word_length_model.compute_contrast(output_type='z_score')"
   ]
  },
  {
   "cell_type": "code",
   "execution_count": null,
   "id": "371a079b",
   "metadata": {},
   "outputs": [],
   "source": [
    "bccwj_word_length_thresholded, bccwj_word_length_threshold = threshold_stats_img(bccwj_word_length_map, alpha=.05,height_control = 'fdr',two_sided=False,cluster_threshold=100)\n",
    "print(bccwj_word_length_threshold)\n",
    "plotting.plot_glass_brain(bccwj_word_length_thresholded,plot_abs=False, threshold = bccwj_word_length_threshold, display_mode='lyrz', colorbar=True)\n",
    "plt.savefig('word_length.png')"
   ]
  },
  {
   "cell_type": "code",
   "execution_count": null,
   "id": "13b5bb18",
   "metadata": {},
   "outputs": [],
   "source": [
    "create_output(bccwj_word_length_thresholded, cluster_extent=3)"
   ]
  },
  {
   "cell_type": "code",
   "execution_count": null,
   "id": "e7a87801",
   "metadata": {},
   "outputs": [],
   "source": [
    "roi_word_length_peak = pd.read_csv('./atlasreader_peaks.csv')\n",
    "roi_word_length_peak"
   ]
  },
  {
   "cell_type": "code",
   "execution_count": null,
   "id": "53abed27",
   "metadata": {},
   "outputs": [],
   "source": [
    "print(roi_word_length_peak.to_latex())"
   ]
  },
  {
   "attachments": {},
   "cell_type": "markdown",
   "id": "7a07f398",
   "metadata": {},
   "source": [
    "## Word Frequency"
   ]
  },
  {
   "cell_type": "code",
   "execution_count": null,
   "id": "bcecce5d",
   "metadata": {},
   "outputs": [],
   "source": [
    "bccwj_word_freq_files = natsorted(glob.glob(f\"../data/glm/word_freq/*word_freq*\"))\n",
    "design_matrix = pd.DataFrame([1] * len(bccwj_word_freq_files), columns=['intercept'])\n",
    "\n",
    "bccwj_word_freq_model = SecondLevelModel(smoothing_fwhm=8.0, mask_img=resampled_yeo_binary) \n",
    "bccwj_word_freq_model = bccwj_word_freq_model.fit(bccwj_word_freq_files, design_matrix=design_matrix)\n",
    "\n",
    "bccwj_word_freq_map = bccwj_word_freq_model.compute_contrast(output_type='z_score')"
   ]
  },
  {
   "cell_type": "code",
   "execution_count": null,
   "id": "c7489be8",
   "metadata": {},
   "outputs": [],
   "source": [
    "bccwj_word_freq_thresholded, bccwj_word_freq_threshold = threshold_stats_img(bccwj_word_freq_map, alpha=.05,height_control = 'fdr',two_sided=True, cluster_threshold=100)\n",
    "print(bccwj_word_freq_threshold)\n",
    "plotting.plot_glass_brain(bccwj_word_freq_thresholded,plot_abs=False, threshold = bccwj_word_freq_threshold, display_mode='lyrz',colorbar=True)\n",
    "plt.savefig('word_freq.png')"
   ]
  },
  {
   "cell_type": "code",
   "execution_count": null,
   "id": "07464ffe",
   "metadata": {},
   "outputs": [],
   "source": [
    "create_output(bccwj_word_freq_thresholded, cluster_extent=3)"
   ]
  },
  {
   "cell_type": "code",
   "execution_count": null,
   "id": "e0f16d37",
   "metadata": {},
   "outputs": [],
   "source": [
    "roi_word_freq_peak = pd.read_csv('./atlasreader_peaks.csv')\n",
    "roi_word_freq_peak"
   ]
  },
  {
   "cell_type": "code",
   "execution_count": null,
   "id": "04dc05c2",
   "metadata": {
    "scrolled": true
   },
   "outputs": [],
   "source": [
    "print(roi_word_freq_peak.to_latex())"
   ]
  },
  {
   "attachments": {},
   "cell_type": "markdown",
   "id": "9a0feadf",
   "metadata": {},
   "source": [
    "## Sentid"
   ]
  },
  {
   "cell_type": "code",
   "execution_count": null,
   "id": "925075f5",
   "metadata": {},
   "outputs": [],
   "source": [
    "bccwj_sentid_files = natsorted(glob.glob(f\"../data/glm/sent_id/*sent_id*\"))\n",
    "design_matrix = pd.DataFrame([1] * len(bccwj_sentid_files), columns=['intercept'])\n",
    "\n",
    "bccwj_sentid_model = SecondLevelModel(smoothing_fwhm=8.0, mask_img=resampled_yeo_binary) \n",
    "bccwj_sentid_model = bccwj_sentid_model.fit(bccwj_sentid_files, design_matrix=design_matrix)\n",
    "\n",
    "bccwj_sentid_map = bccwj_sentid_model.compute_contrast(output_type='z_score')"
   ]
  },
  {
   "cell_type": "code",
   "execution_count": null,
   "id": "dfafa5e9",
   "metadata": {},
   "outputs": [],
   "source": [
    "bccwj_sentid_thresholded, bccwj_sentid_threshold = threshold_stats_img(bccwj_sentid_map, alpha=.05,two_sided=False, height_control = 'fdr',cluster_threshold=100)\n",
    "print(bccwj_sentid_threshold)\n",
    "plotting.plot_glass_brain(bccwj_sentid_thresholded,plot_abs=False, threshold = bccwj_sentid_threshold, display_mode='lyrz', colorbar=True)\n",
    "plt.savefig('sent_id.png')"
   ]
  },
  {
   "cell_type": "code",
   "execution_count": null,
   "id": "2b6e3cf7",
   "metadata": {},
   "outputs": [],
   "source": [
    "create_output(bccwj_sentid_thresholded, cluster_extent=3)"
   ]
  },
  {
   "cell_type": "code",
   "execution_count": null,
   "id": "3d92840f",
   "metadata": {},
   "outputs": [],
   "source": [
    "roi_sentid_peak = pd.read_csv('./atlasreader_peaks.csv')\n",
    "roi_sentid_peak"
   ]
  },
  {
   "cell_type": "code",
   "execution_count": null,
   "id": "acc69942",
   "metadata": {},
   "outputs": [],
   "source": [
    "print(roi_sentid_peak.to_latex())"
   ]
  },
  {
   "attachments": {},
   "cell_type": "markdown",
   "id": "f920d1de",
   "metadata": {},
   "source": [
    "## Sentpos"
   ]
  },
  {
   "cell_type": "code",
   "execution_count": null,
   "id": "ad13692f",
   "metadata": {},
   "outputs": [],
   "source": [
    "bccwj_sentpos_files = natsorted(glob.glob(f\"../data/glm/sent_pos/*sentpos*\"))\n",
    "design_matrix = pd.DataFrame([1] * len(bccwj_sentpos_files), columns=['intercept'])\n",
    "\n",
    "bccwj_sentpos_model = SecondLevelModel(smoothing_fwhm=8.0, mask_img=resampled_yeo_binary)\n",
    "bccwj_sentpos_model = bccwj_sentpos_model.fit(bccwj_sentpos_files, design_matrix=design_matrix)\n",
    "\n",
    "bccwj_sentpos_map = bccwj_sentpos_model.compute_contrast(output_type='z_score')"
   ]
  },
  {
   "cell_type": "code",
   "execution_count": null,
   "id": "cf5bace3",
   "metadata": {},
   "outputs": [],
   "source": [
    "bccwj_sentpos_thresholded, bccwj_sentpos_threshold = threshold_stats_img(bccwj_sentpos_map, alpha=.05,two_sided=False,cluster_threshold=100) #height_control = 'fdr'\n",
    "print(bccwj_sentpos_threshold)\n",
    "plotting.plot_glass_brain(bccwj_sentpos_thresholded,plot_abs=False, threshold = bccwj_sentpos_threshold, display_mode='lyrz', colorbar=True)\n",
    "plt.savefig('sent_pos.png')"
   ]
  },
  {
   "cell_type": "code",
   "execution_count": null,
   "id": "c485bedf",
   "metadata": {},
   "outputs": [],
   "source": [
    "create_output(bccwj_sentpos_thresholded, cluster_extent=3)\n",
    "roi_sentpos_peak = pd.read_csv('./atlasreader_peaks.csv')\n",
    "roi_sentpos_peak"
   ]
  },
  {
   "cell_type": "code",
   "execution_count": null,
   "id": "b6d259b8",
   "metadata": {
    "scrolled": true
   },
   "outputs": [],
   "source": [
    "print(roi_sentpos_peak.to_latex())"
   ]
  },
  {
   "attachments": {},
   "cell_type": "markdown",
   "id": "60bb66bc",
   "metadata": {},
   "source": [
    "## Ngram-five"
   ]
  },
  {
   "cell_type": "code",
   "execution_count": null,
   "id": "52442ca6",
   "metadata": {},
   "outputs": [],
   "source": [
    "bccwj_ngram_files = natsorted(glob.glob(f\"../data/glm/ngram/*ngram*\"))\n",
    "design_matrix = pd.DataFrame([1] * len(bccwj_ngram_files), columns=['intercept'])\n",
    "\n",
    "bccwj_ngram_model = SecondLevelModel(smoothing_fwhm=8.0,  mask_img=resampled_yeo_binary)\n",
    "bccwj_ngram_model = bccwj_ngram_model.fit(bccwj_ngram_files, design_matrix=design_matrix)\n",
    "\n",
    "bccwj_ngram_map = bccwj_ngram_model.compute_contrast(output_type='z_score')"
   ]
  },
  {
   "cell_type": "code",
   "execution_count": null,
   "id": "97ff92ab",
   "metadata": {},
   "outputs": [],
   "source": [
    "bccwj_ngram_thresholded, bccwj_ngram_threshold = threshold_stats_img(bccwj_ngram_map, alpha=.05, two_sided=False, cluster_threshold=100, height_control= 'fdr')\n",
    "print(bccwj_ngram_threshold)\n",
    "plotting.plot_glass_brain(bccwj_ngram_thresholded,plot_abs=False, threshold = bccwj_ngram_threshold, display_mode='lyrz', colorbar=True)\n",
    "plt.savefig('five_gram.png')"
   ]
  },
  {
   "cell_type": "code",
   "execution_count": null,
   "id": "0462cb6f",
   "metadata": {},
   "outputs": [],
   "source": [
    "create_output(bccwj_ngram_thresholded, cluster_extent=3)"
   ]
  },
  {
   "cell_type": "code",
   "execution_count": null,
   "id": "2d12926e",
   "metadata": {},
   "outputs": [],
   "source": [
    "roi_ngram_peak = pd.read_csv('./atlasreader_peaks.csv')\n",
    "roi_ngram_peak"
   ]
  },
  {
   "cell_type": "code",
   "execution_count": null,
   "id": "ad97e5ec",
   "metadata": {},
   "outputs": [],
   "source": [
    "print(roi_ngram_peak.to_latex())"
   ]
  },
  {
   "attachments": {},
   "cell_type": "markdown",
   "id": "857e0763",
   "metadata": {},
   "source": [
    "## LSTM"
   ]
  },
  {
   "cell_type": "code",
   "execution_count": null,
   "id": "2198f56e",
   "metadata": {},
   "outputs": [],
   "source": [
    "bccwj_lstm_files = natsorted(glob.glob(f\"../data/glm/lstm/*lstm*\"))\n",
    "design_matrix = pd.DataFrame([1] * len(bccwj_lstm_files), columns=['intercept'])\n",
    "\n",
    "bccwj_lstm_model = SecondLevelModel(smoothing_fwhm=8.0, mask_img=resampled_yeo_binary)\n",
    "bccwj_lstm_model = bccwj_lstm_model.fit(bccwj_lstm_files, design_matrix=design_matrix)\n",
    "\n",
    "bccwj_lstm_map = bccwj_lstm_model.compute_contrast(output_type='z_score')"
   ]
  },
  {
   "cell_type": "code",
   "execution_count": null,
   "id": "15a4e8fa",
   "metadata": {},
   "outputs": [],
   "source": [
    "bccwj_lstm_thresholded, bccwj_lstm_threshold = threshold_stats_img(bccwj_lstm_map, alpha=.05, two_sided=False,  cluster_threshold=100)#height_control= 'fdr'\n",
    "print(bccwj_lstm_threshold)\n",
    "plotting.plot_glass_brain(bccwj_lstm_thresholded,plot_abs=False, threshold = bccwj_lstm_threshold, display_mode='lyrz', colorbar=True)\n",
    "plt.savefig('lstm.png')"
   ]
  },
  {
   "cell_type": "code",
   "execution_count": null,
   "id": "2c595299",
   "metadata": {},
   "outputs": [],
   "source": [
    "create_output(bccwj_lstm_thresholded, cluster_extent=3)"
   ]
  },
  {
   "cell_type": "code",
   "execution_count": null,
   "id": "1c9e559c",
   "metadata": {},
   "outputs": [],
   "source": [
    "roi_lstm_peak = pd.read_csv('./atlasreader_peaks.csv')\n",
    "roi_lstm_peak"
   ]
  },
  {
   "cell_type": "code",
   "execution_count": null,
   "id": "e545e22a",
   "metadata": {},
   "outputs": [],
   "source": [
    "print(roi_lstm_peak.to_latex())"
   ]
  },
  {
   "attachments": {},
   "cell_type": "markdown",
   "id": "ddc383b8",
   "metadata": {},
   "source": [
    "## surp_RNNG_TD"
   ]
  },
  {
   "cell_type": "code",
   "execution_count": null,
   "id": "8aacd08f",
   "metadata": {},
   "outputs": [],
   "source": [
    "bccwj_rnng_td_files = natsorted(glob.glob(f\"../data/glm/surp_rnng_td/*rnng_td*\"))\n",
    "design_matrix = pd.DataFrame([1] * len(bccwj_rnng_td_files), columns=['intercept'])\n",
    "\n",
    "bccwj_rnng_td_model = SecondLevelModel(smoothing_fwhm=8.0,  mask_img=resampled_yeo_binary)\n",
    "bccwj_rnng_td_model = bccwj_rnng_td_model.fit(bccwj_rnng_td_files, design_matrix=design_matrix)\n",
    "\n",
    "bccwj_rnng_td_map = bccwj_rnng_td_model.compute_contrast(output_type='z_score')"
   ]
  },
  {
   "cell_type": "code",
   "execution_count": null,
   "id": "2e84776e",
   "metadata": {},
   "outputs": [],
   "source": [
    "bccwj_rnng_td_thresholded, bccwj_rnng_td_threshold = threshold_stats_img(bccwj_rnng_td_map, alpha=.05, two_sided=False,  cluster_threshold=100,)#height_control='fdr'\n",
    "print(bccwj_rnng_td_threshold)\n",
    "plotting.plot_glass_brain(bccwj_rnng_td_thresholded,plot_abs=False, threshold = bccwj_rnng_td_threshold, display_mode='lyrz',colorbar=True)\n",
    "plt.savefig('surp_rnng_td.png')"
   ]
  },
  {
   "cell_type": "code",
   "execution_count": null,
   "id": "1468a80e",
   "metadata": {},
   "outputs": [],
   "source": [
    "create_output(bccwj_rnng_td_thresholded, cluster_extent=3)"
   ]
  },
  {
   "cell_type": "code",
   "execution_count": null,
   "id": "2a29e82a",
   "metadata": {},
   "outputs": [],
   "source": [
    "roi_rnng_td_peak = pd.read_csv('./atlasreader_peaks.csv')\n",
    "roi_rnng_td_peak"
   ]
  },
  {
   "cell_type": "code",
   "execution_count": null,
   "id": "ffbf5167",
   "metadata": {
    "scrolled": true
   },
   "outputs": [],
   "source": [
    "print(roi_rnng_td_peak.to_latex())"
   ]
  },
  {
   "attachments": {},
   "cell_type": "markdown",
   "id": "f112969c",
   "metadata": {},
   "source": [
    "## surp_RNNG_LC"
   ]
  },
  {
   "cell_type": "code",
   "execution_count": null,
   "id": "eb280385",
   "metadata": {},
   "outputs": [],
   "source": [
    "bccwj_rnng_lc_files = natsorted(glob.glob(f\"../data/glm/surp_rnng_lc/*rnng_lc*\"))\n",
    "design_matrix = pd.DataFrame([1] * len(bccwj_rnng_lc_files), columns=['intercept'])\n",
    "\n",
    "bccwj_rnng_lc_model = SecondLevelModel(smoothing_fwhm=8.0,  mask_img=resampled_yeo_binary)\n",
    "bccwj_rnng_lc_model = bccwj_rnng_lc_model.fit(bccwj_rnng_lc_files, design_matrix=design_matrix)\n",
    "\n",
    "bccwj_rnng_lc_map = bccwj_rnng_lc_model.compute_contrast(output_type='z_score')"
   ]
  },
  {
   "cell_type": "code",
   "execution_count": null,
   "id": "91121366",
   "metadata": {},
   "outputs": [],
   "source": [
    "bccwj_rnng_lc_thresholded, bccwj_rnng_lc_threshold = threshold_stats_img(bccwj_rnng_lc_map, alpha=.05, two_sided=False,  cluster_threshold=100,)#height_control='fdr'\n",
    "print(bccwj_rnng_lc_threshold)\n",
    "plotting.plot_glass_brain(bccwj_rnng_lc_thresholded,plot_abs=False, threshold = bccwj_rnng_lc_threshold, display_mode='lyrz', colorbar=True)\n",
    "plt.savefig('surp_rnng_lc.png')"
   ]
  },
  {
   "cell_type": "code",
   "execution_count": null,
   "id": "b7929331",
   "metadata": {},
   "outputs": [],
   "source": [
    "create_output(bccwj_rnng_lc_thresholded, cluster_extent=3)\n",
    "roi_rnng_lc_peak = pd.read_csv('./atlasreader_peaks.csv')\n",
    "roi_rnng_lc_peak"
   ]
  },
  {
   "cell_type": "code",
   "execution_count": null,
   "id": "38a4182d",
   "metadata": {},
   "outputs": [],
   "source": [
    "print(roi_rnng_lc_peak.to_latex())"
   ]
  },
  {
   "cell_type": "code",
   "execution_count": null,
   "id": "4f2b79b1",
   "metadata": {},
   "outputs": [],
   "source": []
  },
  {
   "attachments": {},
   "cell_type": "markdown",
   "id": "f4294ec5",
   "metadata": {},
   "source": [
    "## dis_RNNG_TD"
   ]
  },
  {
   "cell_type": "code",
   "execution_count": null,
   "id": "36cbe19e",
   "metadata": {},
   "outputs": [],
   "source": [
    "bccwj_dis_rnng_td_files = natsorted(glob.glob(f\"../data/glm/dis_rnng_td/*dis_rnng_td*\"))\n",
    "design_matrix = pd.DataFrame([1] * len(bccwj_dis_rnng_td_files), columns=['intercept'])\n",
    "\n",
    "bccwj_dis_rnng_td_model = SecondLevelModel(smoothing_fwhm=8.0,mask_img=resampled_yeo_binary) \n",
    "bccwj_dis_rnng_td_model = bccwj_dis_rnng_td_model.fit(bccwj_dis_rnng_td_files, design_matrix=design_matrix)\n",
    "\n",
    "bccwj_dis_rnng_td_map = bccwj_dis_rnng_td_model.compute_contrast(output_type='z_score')"
   ]
  },
  {
   "cell_type": "code",
   "execution_count": null,
   "id": "e9da37e4",
   "metadata": {},
   "outputs": [],
   "source": [
    "bccwj_dis_rnng_td_thresholded, bccwj_dis_rnng_td_threshold = threshold_stats_img(bccwj_dis_rnng_td_map, alpha=.05, height_control = 'fdr', two_sided=False, cluster_threshold=100)\n",
    "print(bccwj_dis_rnng_td_threshold)\n",
    "plotting.plot_glass_brain(bccwj_dis_rnng_td_thresholded,plot_abs=False, threshold = bccwj_dis_rnng_td_threshold, display_mode='lyrz', colorbar=True)\n",
    "plt.savefig('dis_rnng_td.png')"
   ]
  },
  {
   "cell_type": "code",
   "execution_count": null,
   "id": "939bb3d2",
   "metadata": {},
   "outputs": [],
   "source": [
    "create_output(bccwj_dis_rnng_td_thresholded, cluster_extent=3)\n",
    "roi_dis_rnng_td_peak = pd.read_csv('./atlasreader_peaks.csv')\n",
    "roi_dis_rnng_td_peak"
   ]
  },
  {
   "cell_type": "code",
   "execution_count": null,
   "id": "04c23ea6",
   "metadata": {},
   "outputs": [],
   "source": [
    "print(roi_dis_rnng_td_peak.to_latex())"
   ]
  },
  {
   "attachments": {},
   "cell_type": "markdown",
   "id": "62a8c28f",
   "metadata": {},
   "source": [
    "##  dis_RNNG_LC "
   ]
  },
  {
   "cell_type": "code",
   "execution_count": null,
   "id": "968d87d2",
   "metadata": {},
   "outputs": [],
   "source": [
    "bccwj_dis_rnng_lc_files = natsorted(glob.glob(f\"../data/glm/dis_rnng_lc/*dis_rnng_lc*\"))\n",
    "design_matrix = pd.DataFrame([1] * len(bccwj_dis_rnng_lc_files), columns=['intercept'])\n",
    "\n",
    "bccwj_dis_rnng_lc_model = SecondLevelModel(smoothing_fwhm=8.0,mask_img=resampled_yeo_binary) \n",
    "bccwj_dis_rnng_lc_model = bccwj_dis_rnng_lc_model.fit(bccwj_dis_rnng_lc_files, design_matrix=design_matrix)\n",
    "\n",
    "bccwj_dis_rnng_lc_map = bccwj_dis_rnng_lc_model.compute_contrast(output_type='z_score')"
   ]
  },
  {
   "cell_type": "code",
   "execution_count": null,
   "id": "1e99609f",
   "metadata": {},
   "outputs": [],
   "source": [
    "bccwj_dis_rnng_lc_thresholded, bccwj_dis_rnng_lc_threshold = threshold_stats_img(bccwj_dis_rnng_lc_map, alpha=.05,  two_sided=False, cluster_threshold=100) #height_control = 'fdr'\n",
    "print(bccwj_dis_rnng_lc_threshold) \n",
    "plotting.plot_glass_brain(bccwj_dis_rnng_lc_thresholded,plot_abs=False, threshold = bccwj_dis_rnng_lc_threshold, display_mode='lyrz', colorbar=True)\n",
    "plt.savefig('dis_rnng_lc.png')"
   ]
  },
  {
   "cell_type": "code",
   "execution_count": null,
   "id": "97107f05",
   "metadata": {},
   "outputs": [],
   "source": [
    "create_output(bccwj_dis_rnng_lc_thresholded, cluster_extent=3)"
   ]
  },
  {
   "cell_type": "code",
   "execution_count": null,
   "id": "d0bda891",
   "metadata": {},
   "outputs": [],
   "source": [
    "roi_dis_rnng_lc_peak = pd.read_csv('./atlasreader_peaks.csv')\n",
    "roi_dis_rnng_lc_peak"
   ]
  },
  {
   "cell_type": "code",
   "execution_count": null,
   "id": "0bed880f",
   "metadata": {},
   "outputs": [],
   "source": []
  }
 ],
 "metadata": {
  "kernelspec": {
   "display_name": "Python 3 (ipykernel)",
   "language": "python",
   "name": "python3"
  },
  "language_info": {
   "codemirror_mode": {
    "name": "ipython",
    "version": 3
   },
   "file_extension": ".py",
   "mimetype": "text/x-python",
   "name": "python",
   "nbconvert_exporter": "python",
   "pygments_lexer": "ipython3",
   "version": "3.11.4"
  }
 },
 "nbformat": 4,
 "nbformat_minor": 5
}
