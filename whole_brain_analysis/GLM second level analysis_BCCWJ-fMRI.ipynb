{
 "cells": [
  {
   "cell_type": "markdown",
   "id": "23bab288",
   "metadata": {},
   "source": [
    "### The code is based on https://github.com/dgd45125/LPPxORCxEN-CN/tree/main/GLM_analyses"
   ]
  },
  {
   "cell_type": "markdown",
   "id": "598c292f",
   "metadata": {},
   "source": [
    "# Whole Brain Analysis: GLM second level analysis"
   ]
  },
  {
   "cell_type": "markdown",
   "id": "20183ac9",
   "metadata": {},
   "source": [
    "# Imports"
   ]
  },
  {
   "cell_type": "code",
   "execution_count": null,
   "id": "3e4092b1",
   "metadata": {},
   "outputs": [],
   "source": [
    "import pandas as pd\n",
    "\n",
    "import numpy as np\n",
    "\n",
    "from nilearn import plotting\n",
    "from nilearn.glm.first_level import FirstLevelModel\n",
    "from nilearn.glm.second_level import SecondLevelModel\n",
    "from nilearn.image import threshold_img\n",
    "from nilearn.glm import threshold_stats_img\n",
    "from nilearn import surface\n",
    "from nilearn import datasets\n",
    "from nilearn.reporting import get_clusters_table\n",
    "from nilearn.image import resample_to_img\n",
    "from nilearn.input_data import NiftiMasker, NiftiLabelsMasker\n",
    "#from nilearn.maskers import NiftiLabelsMasker\n",
    "\n",
    "import glob\n",
    "\n",
    "from natsort import natsorted\n",
    "\n",
    "import matplotlib.pyplot as plt"
   ]
  },
  {
   "cell_type": "code",
   "execution_count": null,
   "id": "63e937d5",
   "metadata": {},
   "outputs": [],
   "source": [
    "sample = './nii/sub30/swu20211222114602_BCCWJ30_7801_EPI_BCCWJ_A_s501.nii'"
   ]
  },
  {
   "cell_type": "markdown",
   "id": "c7d7f408",
   "metadata": {},
   "source": [
    "# Atlas (masker)"
   ]
  },
  {
   "cell_type": "code",
   "execution_count": null,
   "id": "f883226e",
   "metadata": {},
   "outputs": [],
   "source": [
    "Yeo = './Yeo2011_7Networks_MNI152_FreeSurferConformed1mm_LiberalMask.nii.gz'\n",
    "resampled_Yeo = resample_to_img(source_img=Yeo, target_img=sample,interpolation='nearest')\n",
    "\n",
    "#plotting.plot_roi(resampled_Yeo,cut_coords=(-0,18,22))\n",
    "\n",
    "parcelation_masker = NiftiLabelsMasker(labels_img=resampled_Yeo)\n",
    "time_series = parcelation_masker.fit_transform(sample)\n",
    "resampled_yeo_binary = parcelation_masker.inverse_transform([[1,1,1,1,1,1,1]])\n",
    "plotting.plot_roi(resampled_yeo_binary,cut_coords=(0,18,22))"
   ]
  },
  {
   "cell_type": "markdown",
   "id": "f8fbda2f",
   "metadata": {},
   "source": [
    "# Word Rate"
   ]
  },
  {
   "cell_type": "code",
   "execution_count": null,
   "id": "5da86606",
   "metadata": {},
   "outputs": [],
   "source": [
    "bccwj_word_rate_files = natsorted(glob.glob(f\"./glm/word_rate/*word_rate*\"))\n",
    "design_matrix = pd.DataFrame([1] * len(bccwj_word_rate_files), columns=['intercept'])\n",
    "\n",
    "bccwj_word_rate_model = SecondLevelModel(smoothing_fwhm=8.0, mask_img=resampled_yeo_binary)\n",
    "bccwj_word_rate_model = bccwj_word_rate_model.fit(bccwj_word_rate_files, design_matrix=design_matrix)\n",
    "\n",
    "bccwj_word_rate_map = bccwj_word_rate_model.compute_contrast(output_type= 'z_score')"
   ]
  },
  {
   "cell_type": "code",
   "execution_count": null,
   "id": "20c8f955",
   "metadata": {},
   "outputs": [],
   "source": [
    "bccwj_word_rate_thresholded, bccwj_word_rate_threshold = threshold_stats_img(bccwj_word_rate_map, \n",
    "                                                                             alpha=.05,\n",
    "                                                                             height_control = 'fdr',\n",
    "                                                                             two_sided=False,\n",
    "                                                                             cluster_threshold=50)\n",
    "print(bccwj_word_rate_threshold)\n",
    "plotting.plot_glass_brain(bccwj_word_rate_thresholded,plot_abs=False, \n",
    "                          threshold = bccwj_word_rate_threshold,\n",
    "                          display_mode='lyrz',\n",
    "                          colorbar=True)\n",
    "plt.savefig('wordrate')"
   ]
  },
  {
   "cell_type": "code",
   "execution_count": null,
   "id": "019dcc09",
   "metadata": {},
   "outputs": [],
   "source": [
    "table = get_clusters_table(stat_img = bccwj_word_rate_thresholded,\n",
    "                           stat_threshold=bccwj_word_rate_threshold,\n",
    "                           two_sided=True)\n",
    "table"
   ]
  },
  {
   "cell_type": "code",
   "execution_count": null,
   "id": "f60afccd",
   "metadata": {},
   "outputs": [],
   "source": [
    "table = get_clusters_table(stat_img = bccwj_word_rate_thresholded,\n",
    "                           stat_threshold=bccwj_word_rate_threshold,\n",
    "                           two_sided=True)\n",
    "\n",
    "table = table.round({'X':0,'Y':0,'Z':0,'Peak Stat':2})\n",
    "table.drop(columns='Cluster ID',inplace=True)\n",
    "table=table[['Cluster Size (mm3)','X','Y','Z','Peak Stat']]\n",
    "table"
   ]
  },
  {
   "cell_type": "code",
   "execution_count": null,
   "id": "bf18ef69",
   "metadata": {},
   "outputs": [],
   "source": [
    "print(table.to_latex())"
   ]
  },
  {
   "cell_type": "code",
   "execution_count": null,
   "id": "790f53e5",
   "metadata": {},
   "outputs": [],
   "source": [
    "pip install atlasreader"
   ]
  },
  {
   "cell_type": "code",
   "execution_count": null,
   "id": "136b487a",
   "metadata": {},
   "outputs": [],
   "source": [
    "# https://github.com/miykael/atlasreader/blob/master/notebooks/atlasreader.ipynb\n",
    "from atlasreader import create_output\n",
    "create_output(bccwj_word_rate_thresholded, cluster_extent=3)"
   ]
  },
  {
   "cell_type": "code",
   "execution_count": null,
   "id": "2202915a",
   "metadata": {},
   "outputs": [],
   "source": [
    "import pandas as pd\n",
    "roi_word_rate = pd.read_csv('./atlasreader_clusters.csv')\n",
    "roi_word_rate"
   ]
  },
  {
   "cell_type": "code",
   "execution_count": null,
   "id": "a684c931",
   "metadata": {},
   "outputs": [],
   "source": [
    "print(roi_word_rate.to_latex())"
   ]
  },
  {
   "cell_type": "code",
   "execution_count": null,
   "id": "d893ff41",
   "metadata": {},
   "outputs": [],
   "source": [
    "roi_word_rate_peak = pd.read_csv('./atlasreader_peaks.csv')\n",
    "roi_word_rate_peak"
   ]
  },
  {
   "cell_type": "code",
   "execution_count": null,
   "id": "047d85cc",
   "metadata": {},
   "outputs": [],
   "source": [
    "print(roi_word_rate_peak.to_latex())"
   ]
  },
  {
   "cell_type": "markdown",
   "id": "75aedc24",
   "metadata": {},
   "source": [
    "# Word Length"
   ]
  },
  {
   "cell_type": "code",
   "execution_count": null,
   "id": "9461c091",
   "metadata": {},
   "outputs": [],
   "source": [
    "bccwj_word_length_files = natsorted(glob.glob(f\"./glm/word_length/*word_length*\"))\n",
    "design_matrix = pd.DataFrame([1] * len(bccwj_word_length_files), columns=['intercept'])\n",
    "\n",
    "bccwj_word_length_model = SecondLevelModel(smoothing_fwhm=8.0,\n",
    "                           mask_img=resampled_yeo_binary) \n",
    "bccwj_word_length_model = bccwj_word_length_model.fit(bccwj_word_length_files, design_matrix=design_matrix)\n",
    "bccwj_word_length_map = bccwj_word_length_model.compute_contrast(output_type='z_score')"
   ]
  },
  {
   "cell_type": "code",
   "execution_count": null,
   "id": "371a079b",
   "metadata": {},
   "outputs": [],
   "source": [
    "bccwj_word_length_thresholded, bccwj_word_length_threshold = threshold_stats_img(bccwj_word_length_map, \n",
    "                                                                             alpha=.05,\n",
    "                                                                             height_control = 'fdr',\n",
    "                                                                             two_sided=False,\n",
    "                                                                             cluster_threshold=100)\n",
    "print(bccwj_word_length_threshold)\n",
    "plotting.plot_glass_brain(bccwj_word_length_thresholded,plot_abs=False, \n",
    "                          threshold = bccwj_word_length_threshold,\n",
    "                          display_mode='lyrz',\n",
    "                          colorbar=True)\n",
    "plt.savefig('wordlength')"
   ]
  },
  {
   "cell_type": "code",
   "execution_count": null,
   "id": "42ad30f8",
   "metadata": {},
   "outputs": [],
   "source": [
    "table = get_clusters_table(stat_img = bccwj_word_length_thresholded,\n",
    "                           stat_threshold=bccwj_word_length_threshold,\n",
    "                           two_sided=True)\n",
    "\n",
    "table = table.round({'X':0,'Y':0,'Z':0,'Peak Stat':2})\n",
    "table.drop(columns='Cluster ID',inplace=True)\n",
    "table=table[['Cluster Size (mm3)','X','Y','Z','Peak Stat']]\n",
    "table"
   ]
  },
  {
   "cell_type": "code",
   "execution_count": null,
   "id": "b6fadac7",
   "metadata": {},
   "outputs": [],
   "source": [
    "print(table.to_latex())"
   ]
  },
  {
   "cell_type": "code",
   "execution_count": null,
   "id": "68fd955f",
   "metadata": {},
   "outputs": [],
   "source": [
    "pip install atlasreader"
   ]
  },
  {
   "cell_type": "code",
   "execution_count": null,
   "id": "13b5bb18",
   "metadata": {},
   "outputs": [],
   "source": [
    "# https://github.com/miykael/atlasreader/blob/master/notebooks/atlasreader.ipynb\n",
    "from atlasreader import create_output\n",
    "create_output(bccwj_word_length_thresholded, cluster_extent=3)"
   ]
  },
  {
   "cell_type": "code",
   "execution_count": null,
   "id": "89c57653",
   "metadata": {},
   "outputs": [],
   "source": [
    "import pandas as pd\n",
    "roi_word_length = pd.read_csv('./atlasreader_clusters.csv')\n",
    "roi_word_length"
   ]
  },
  {
   "cell_type": "code",
   "execution_count": null,
   "id": "b7fe76f0",
   "metadata": {},
   "outputs": [],
   "source": [
    "print(roi_word_length.to_latex())"
   ]
  },
  {
   "cell_type": "code",
   "execution_count": null,
   "id": "e7a87801",
   "metadata": {},
   "outputs": [],
   "source": [
    "roi_word_length_peak = pd.read_csv('./atlasreader_peaks.csv')\n",
    "roi_word_length_peak"
   ]
  },
  {
   "cell_type": "code",
   "execution_count": null,
   "id": "53abed27",
   "metadata": {},
   "outputs": [],
   "source": [
    "print(roi_word_length_peak.to_latex())"
   ]
  },
  {
   "cell_type": "markdown",
   "id": "7a07f398",
   "metadata": {},
   "source": [
    "# Word Frequency"
   ]
  },
  {
   "cell_type": "code",
   "execution_count": null,
   "id": "bcecce5d",
   "metadata": {},
   "outputs": [],
   "source": [
    "bccwj_word_freq_files = natsorted(glob.glob(f\"./glm/word_freq/*word_freq*\"))\n",
    "design_matrix = pd.DataFrame([1] * len(bccwj_word_freq_files), columns=['intercept'])\n",
    "\n",
    "bccwj_word_freq_model = SecondLevelModel(smoothing_fwhm=8.0,\n",
    "                          mask_img=resampled_yeo_binary) \n",
    "bccwj_word_freq_model = bccwj_word_freq_model.fit(bccwj_word_freq_files, design_matrix=design_matrix)\n",
    "\n",
    "bccwj_word_freq_map = bccwj_word_freq_model.compute_contrast(output_type='z_score')"
   ]
  },
  {
   "cell_type": "code",
   "execution_count": null,
   "id": "c7489be8",
   "metadata": {},
   "outputs": [],
   "source": [
    "bccwj_word_freq_thresholded, bccwj_word_freq_threshold = threshold_stats_img(bccwj_word_freq_map, \n",
    "                                                                             alpha=.05,\n",
    "                                                                             height_control = 'fdr',\n",
    "                                                                             two_sided=True,\n",
    "                                                                             cluster_threshold=100)\n",
    "print(bccwj_word_freq_threshold)\n",
    "plotting.plot_glass_brain(bccwj_word_freq_thresholded,plot_abs=False, \n",
    "                          threshold = bccwj_word_freq_threshold,\n",
    "                          display_mode='lyrz',\n",
    "                          colorbar=True)\n",
    "plt.savefig('wordfreq')"
   ]
  },
  {
   "cell_type": "code",
   "execution_count": null,
   "id": "7a0dde1c",
   "metadata": {},
   "outputs": [],
   "source": [
    "table = get_clusters_table(stat_img = bccwj_word_freq_thresholded,\n",
    "                           stat_threshold=bccwj_word_freq_threshold,\n",
    "                           two_sided=True)\n",
    "\n",
    "table = table.round({'X':0,'Y':0,'Z':0,'Peak Stat':2})\n",
    "table.drop(columns='Cluster ID',inplace=True)\n",
    "table=table[['Cluster Size (mm3)','X','Y','Z','Peak Stat']]\n",
    "table"
   ]
  },
  {
   "cell_type": "code",
   "execution_count": null,
   "id": "c741f914",
   "metadata": {
    "scrolled": true
   },
   "outputs": [],
   "source": [
    "print(table.to_latex())"
   ]
  },
  {
   "cell_type": "code",
   "execution_count": null,
   "id": "07464ffe",
   "metadata": {},
   "outputs": [],
   "source": [
    "# https://github.com/miykael/atlasreader/blob/master/notebooks/atlasreader.ipynb\n",
    "from atlasreader import create_output\n",
    "create_output(bccwj_word_freq_thresholded, cluster_extent=3)"
   ]
  },
  {
   "cell_type": "code",
   "execution_count": null,
   "id": "e0f16d37",
   "metadata": {},
   "outputs": [],
   "source": [
    "roi_word_freq_peak = pd.read_csv('./atlasreader_peaks.csv')\n",
    "roi_word_freq_peak"
   ]
  },
  {
   "cell_type": "code",
   "execution_count": null,
   "id": "04dc05c2",
   "metadata": {
    "scrolled": true
   },
   "outputs": [],
   "source": [
    "print(roi_word_freq_peak.to_latex())"
   ]
  },
  {
   "cell_type": "markdown",
   "id": "9a0feadf",
   "metadata": {},
   "source": [
    "# Sentid"
   ]
  },
  {
   "cell_type": "code",
   "execution_count": null,
   "id": "925075f5",
   "metadata": {},
   "outputs": [],
   "source": [
    "bccwj_sentid_files = natsorted(glob.glob(f\"./glm/sent_id/*sent_id*\"))\n",
    "design_matrix = pd.DataFrame([1] * len(bccwj_sentid_files), columns=['intercept'])\n",
    "\n",
    "bccwj_sentid_model = SecondLevelModel(smoothing_fwhm=8.0,  mask_img=resampled_yeo_binary\n",
    "                            ) \n",
    "bccwj_sentid_model = bccwj_sentid_model.fit(bccwj_sentid_files, design_matrix=design_matrix)\n",
    "\n",
    "bccwj_sentid_map = bccwj_sentid_model.compute_contrast(output_type='z_score')"
   ]
  },
  {
   "cell_type": "code",
   "execution_count": null,
   "id": "dfafa5e9",
   "metadata": {},
   "outputs": [],
   "source": [
    "bccwj_sentid_thresholded, bccwj_sentid_threshold = threshold_stats_img(bccwj_sentid_map, \n",
    "                                                                             alpha=.05,\n",
    "                                                                             height_control = 'fdr',\n",
    "                                                                             two_sided=False,\n",
    "                                                                             cluster_threshold=100)\n",
    "print(bccwj_sentid_threshold)\n",
    "plotting.plot_glass_brain(bccwj_sentid_thresholded,plot_abs=False, \n",
    "                          threshold = bccwj_sentid_threshold,\n",
    "                          display_mode='lyrz',\n",
    "                          colorbar=True)\n",
    "plt.savefig('sentid')"
   ]
  },
  {
   "cell_type": "code",
   "execution_count": null,
   "id": "7bdebb65",
   "metadata": {},
   "outputs": [],
   "source": [
    "table = get_clusters_table(stat_img = bccwj_sentid_thresholded,\n",
    "                           stat_threshold=bccwj_sentid_threshold,\n",
    "                           two_sided=True)\n",
    "\n",
    "table = table.round({'X':0,'Y':0,'Z':0,'Peak Stat':2})\n",
    "table.drop(columns='Cluster ID',inplace=True)\n",
    "table=table[['Cluster Size (mm3)','X','Y','Z','Peak Stat']]\n",
    "table"
   ]
  },
  {
   "cell_type": "code",
   "execution_count": null,
   "id": "72647ed6",
   "metadata": {},
   "outputs": [],
   "source": [
    "print(table.to_latex())"
   ]
  },
  {
   "cell_type": "code",
   "execution_count": null,
   "id": "2b6e3cf7",
   "metadata": {},
   "outputs": [],
   "source": [
    "# https://github.com/miykael/atlasreader/blob/master/notebooks/atlasreader.ipynb\n",
    "from atlasreader import create_output\n",
    "create_output(bccwj_sentid_thresholded, cluster_extent=3)"
   ]
  },
  {
   "cell_type": "code",
   "execution_count": null,
   "id": "3d92840f",
   "metadata": {},
   "outputs": [],
   "source": [
    "roi_sentid_peak = pd.read_csv('./atlasreader_peaks.csv')\n",
    "roi_sentid_peak"
   ]
  },
  {
   "cell_type": "code",
   "execution_count": null,
   "id": "acc69942",
   "metadata": {},
   "outputs": [],
   "source": [
    "print(roi_sentid_peak.to_latex())"
   ]
  },
  {
   "cell_type": "markdown",
   "id": "f920d1de",
   "metadata": {},
   "source": [
    "# Sentpos"
   ]
  },
  {
   "cell_type": "code",
   "execution_count": null,
   "id": "ad13692f",
   "metadata": {},
   "outputs": [],
   "source": [
    "bccwj_sentpos_files = natsorted(glob.glob(f\"./glm/sent_pos/*sentpos*\"))\n",
    "design_matrix = pd.DataFrame([1] * len(bccwj_sentpos_files), columns=['intercept'])\n",
    "\n",
    "bccwj_sentpos_model = SecondLevelModel(smoothing_fwhm=8.0, mask_img=resampled_yeo_binary\n",
    "                            )\n",
    "bccwj_sentpos_model = bccwj_sentpos_model.fit(bccwj_sentpos_files, design_matrix=design_matrix)\n",
    "\n",
    "bccwj_sentpos_map = bccwj_sentpos_model.compute_contrast(output_type='z_score')"
   ]
  },
  {
   "cell_type": "code",
   "execution_count": null,
   "id": "cf5bace3",
   "metadata": {},
   "outputs": [],
   "source": [
    "bccwj_sentpos_thresholded, bccwj_sentpos_threshold = threshold_stats_img(bccwj_sentpos_map, \n",
    "                                                                             alpha=.05,\n",
    "                                                                             #height_control = 'fdr',\n",
    "                                                                             two_sided=False,\n",
    "                                                                             cluster_threshold=100)\n",
    "print(bccwj_sentpos_threshold)\n",
    "plotting.plot_glass_brain(bccwj_sentpos_thresholded,plot_abs=False, \n",
    "                          threshold = bccwj_sentpos_threshold,\n",
    "                          display_mode='lyrz',\n",
    "                          colorbar=True)\n",
    "plt.savefig('sentpos')"
   ]
  },
  {
   "cell_type": "code",
   "execution_count": null,
   "id": "d80cb26c",
   "metadata": {},
   "outputs": [],
   "source": [
    "table = get_clusters_table(stat_img = bccwj_sentpos_thresholded,\n",
    "                           stat_threshold=bccwj_sentpos_threshold,\n",
    "                           two_sided=True)\n",
    "\n",
    "table = table.round({'X':0,'Y':0,'Z':0,'Peak Stat':2})\n",
    "table.drop(columns='Cluster ID',inplace=True)\n",
    "table=table[['Cluster Size (mm3)','X','Y','Z','Peak Stat']]\n",
    "table"
   ]
  },
  {
   "cell_type": "code",
   "execution_count": null,
   "id": "d3385685",
   "metadata": {},
   "outputs": [],
   "source": [
    "print(table.to_latex())"
   ]
  },
  {
   "cell_type": "code",
   "execution_count": null,
   "id": "5f38095e",
   "metadata": {},
   "outputs": [],
   "source": [
    "# https://github.com/miykael/atlasreader/blob/master/notebooks/atlasreader.ipynb\n",
    "from atlasreader import create_output\n",
    "create_output(bccwj_sentpos_thresholded, cluster_extent=3)"
   ]
  },
  {
   "cell_type": "code",
   "execution_count": null,
   "id": "c485bedf",
   "metadata": {},
   "outputs": [],
   "source": [
    "roi_sentpos_peak = pd.read_csv('./atlasreader_peaks.csv')\n",
    "roi_sentpos_peak"
   ]
  },
  {
   "cell_type": "code",
   "execution_count": null,
   "id": "b6d259b8",
   "metadata": {
    "scrolled": true
   },
   "outputs": [],
   "source": [
    "print(roi_sentpos_peak.to_latex())"
   ]
  },
  {
   "cell_type": "markdown",
   "id": "60bb66bc",
   "metadata": {},
   "source": [
    "# Ngram-five"
   ]
  },
  {
   "cell_type": "code",
   "execution_count": null,
   "id": "52442ca6",
   "metadata": {},
   "outputs": [],
   "source": [
    "bccwj_ngram_files = natsorted(glob.glob(f\"./glm/ngram/*ngram*\"))\n",
    "design_matrix = pd.DataFrame([1] * len(bccwj_ngram_files), columns=['intercept'])\n",
    "\n",
    "bccwj_ngram_model = SecondLevelModel(smoothing_fwhm=8.0,  mask_img=resampled_yeo_binary\n",
    "                            )\n",
    "bccwj_ngram_model = bccwj_ngram_model.fit(bccwj_ngram_files, design_matrix=design_matrix)\n",
    "\n",
    "bccwj_ngram_map = bccwj_ngram_model.compute_contrast(output_type='z_score')"
   ]
  },
  {
   "cell_type": "code",
   "execution_count": null,
   "id": "97ff92ab",
   "metadata": {},
   "outputs": [],
   "source": [
    "bccwj_ngram_thresholded, bccwj_ngram_threshold = threshold_stats_img(bccwj_ngram_map, \n",
    "                                                                     alpha=.05, \n",
    "                                                                     two_sided=False, \n",
    "                                                                     cluster_threshold=100,\n",
    "                                                                     height_control= 'fdr'\n",
    "                                                                  )\n",
    "print(bccwj_ngram_threshold)\n",
    "plotting.plot_glass_brain(bccwj_ngram_thresholded,plot_abs=False, \n",
    "                          threshold = bccwj_ngram_threshold,\n",
    "                          display_mode='lyrz',\n",
    "                          colorbar=True)\n",
    "plt.savefig('ngram')"
   ]
  },
  {
   "cell_type": "code",
   "execution_count": null,
   "id": "74a21e00",
   "metadata": {},
   "outputs": [],
   "source": [
    "table = get_clusters_table(stat_img = bccwj_ngram_thresholded,\n",
    "                           stat_threshold=bccwj_ngram_threshold,\n",
    "                           two_sided=True)\n",
    "\n",
    "table = table.round({'X':0,'Y':0,'Z':0,'Peak Stat':2})\n",
    "table.drop(columns='Cluster ID',inplace=True)\n",
    "table=table[['Cluster Size (mm3)','X','Y','Z','Peak Stat']]\n",
    "table"
   ]
  },
  {
   "cell_type": "code",
   "execution_count": null,
   "id": "c6abe6dd",
   "metadata": {},
   "outputs": [],
   "source": [
    "print(table.to_latex())"
   ]
  },
  {
   "cell_type": "code",
   "execution_count": null,
   "id": "0462cb6f",
   "metadata": {},
   "outputs": [],
   "source": [
    "# https://github.com/miykael/atlasreader/blob/master/notebooks/atlasreader.ipynb\n",
    "from atlasreader import create_output\n",
    "create_output(bccwj_ngram_thresholded, cluster_extent=3)"
   ]
  },
  {
   "cell_type": "code",
   "execution_count": null,
   "id": "2d12926e",
   "metadata": {},
   "outputs": [],
   "source": [
    "roi_ngram_peak = pd.read_csv('./atlasreader_peaks.csv')\n",
    "roi_ngram_peak"
   ]
  },
  {
   "cell_type": "code",
   "execution_count": null,
   "id": "ad97e5ec",
   "metadata": {},
   "outputs": [],
   "source": [
    "print(roi_ngram_peak.to_latex())"
   ]
  },
  {
   "cell_type": "markdown",
   "id": "857e0763",
   "metadata": {},
   "source": [
    "# LSTM"
   ]
  },
  {
   "cell_type": "code",
   "execution_count": null,
   "id": "2198f56e",
   "metadata": {},
   "outputs": [],
   "source": [
    "bccwj_lstm_files = natsorted(glob.glob(f\"./glm/lstm/*lstm*\"))\n",
    "design_matrix = pd.DataFrame([1] * len(bccwj_lstm_files), columns=['intercept'])\n",
    "\n",
    "bccwj_lstm_model = SecondLevelModel(smoothing_fwhm=8.0,  mask_img=resampled_yeo_binary\n",
    "                            )\n",
    "bccwj_lstm_model = bccwj_lstm_model.fit(bccwj_lstm_files, design_matrix=design_matrix)\n",
    "\n",
    "bccwj_lstm_map = bccwj_lstm_model.compute_contrast(output_type='z_score')"
   ]
  },
  {
   "cell_type": "code",
   "execution_count": null,
   "id": "15a4e8fa",
   "metadata": {},
   "outputs": [],
   "source": [
    "bccwj_lstm_thresholded, bccwj_lstm_threshold = threshold_stats_img(bccwj_lstm_map, \n",
    "                                                                     alpha=.05, \n",
    "                                                                     two_sided=False, \n",
    "                                                                     cluster_threshold=50,\n",
    "                                                                     #height_control= 'fdr'\n",
    "                                                                  )\n",
    "print(bccwj_lstm_threshold)\n",
    "plotting.plot_glass_brain(bccwj_lstm_thresholded,plot_abs=False, \n",
    "                          threshold = bccwj_lstm_threshold,\n",
    "                          display_mode='lyrz',\n",
    "                          colorbar=True)\n",
    "plt.savefig('lstm')"
   ]
  },
  {
   "cell_type": "code",
   "execution_count": null,
   "id": "dfbf36a2",
   "metadata": {},
   "outputs": [],
   "source": [
    "table = get_clusters_table(stat_img = bccwj_lstm_thresholded,\n",
    "                           stat_threshold=bccwj_lstm_threshold,\n",
    "                           two_sided=True)\n",
    "\n",
    "table = table.round({'X':0,'Y':0,'Z':0,'Peak Stat':2})\n",
    "table.drop(columns='Cluster ID',inplace=True)\n",
    "table=table[['Cluster Size (mm3)','X','Y','Z','Peak Stat']]\n",
    "table"
   ]
  },
  {
   "cell_type": "code",
   "execution_count": null,
   "id": "c2298c5b",
   "metadata": {},
   "outputs": [],
   "source": [
    "print(table.to_latex())"
   ]
  },
  {
   "cell_type": "code",
   "execution_count": null,
   "id": "2c595299",
   "metadata": {},
   "outputs": [],
   "source": [
    "# https://github.com/miykael/atlasreader/blob/master/notebooks/atlasreader.ipynb\n",
    "from atlasreader import create_output\n",
    "create_output(bccwj_lstm_thresholded, cluster_extent=3)"
   ]
  },
  {
   "cell_type": "code",
   "execution_count": null,
   "id": "1c9e559c",
   "metadata": {},
   "outputs": [],
   "source": [
    "roi_lstm_peak = pd.read_csv('./atlasreader_peaks.csv')\n",
    "roi_lstm_peak"
   ]
  },
  {
   "cell_type": "code",
   "execution_count": null,
   "id": "e545e22a",
   "metadata": {},
   "outputs": [],
   "source": [
    "print(roi_lstm_peak.to_latex())"
   ]
  },
  {
   "cell_type": "markdown",
   "id": "ddc383b8",
   "metadata": {},
   "source": [
    "# surp_RNNG_TD"
   ]
  },
  {
   "cell_type": "code",
   "execution_count": null,
   "id": "8aacd08f",
   "metadata": {},
   "outputs": [],
   "source": [
    "bccwj_rnng_td_files = natsorted(glob.glob(f\"./glm/surp_rnng_td/*rnng_td*\"))\n",
    "design_matrix = pd.DataFrame([1] * len(bccwj_rnng_td_files), columns=['intercept'])\n",
    "\n",
    "bccwj_rnng_td_model = SecondLevelModel(smoothing_fwhm=8.0,  mask_img=resampled_yeo_binary\n",
    "                            )\n",
    "bccwj_rnng_td_model = bccwj_rnng_td_model.fit(bccwj_rnng_td_files, design_matrix=design_matrix)\n",
    "\n",
    "bccwj_rnng_td_map = bccwj_rnng_td_model.compute_contrast(output_type='z_score')"
   ]
  },
  {
   "cell_type": "code",
   "execution_count": null,
   "id": "2e84776e",
   "metadata": {},
   "outputs": [],
   "source": [
    "bccwj_rnng_td_thresholded, bccwj_rnng_td_threshold = threshold_stats_img(bccwj_rnng_td_map, \n",
    "                                                                     alpha=.05, \n",
    "                                                                     two_sided=False, \n",
    "                                                                     cluster_threshold=100,\n",
    "                                                                     #height_control='fdr'\n",
    "                                                                  )\n",
    "print(bccwj_rnng_td_threshold)\n",
    "plotting.plot_glass_brain(bccwj_rnng_td_thresholded,plot_abs=False, \n",
    "                          threshold = bccwj_rnng_td_threshold,\n",
    "                          display_mode='lyrz',\n",
    "                          colorbar=True)\n",
    "plt.savefig('surprnngtd')"
   ]
  },
  {
   "cell_type": "code",
   "execution_count": null,
   "id": "e14d4c6b",
   "metadata": {},
   "outputs": [],
   "source": [
    "table = get_clusters_table(stat_img = bccwj_rnng_td_thresholded,\n",
    "                           stat_threshold=bccwj_rnng_td_threshold,\n",
    "                           two_sided=True)\n",
    "\n",
    "table = table.round({'X':0,'Y':0,'Z':0,'Peak Stat':2})\n",
    "table.drop(columns='Cluster ID',inplace=True)\n",
    "table=table[['Cluster Size (mm3)','X','Y','Z','Peak Stat']]\n",
    "table"
   ]
  },
  {
   "cell_type": "code",
   "execution_count": null,
   "id": "b5b5ef90",
   "metadata": {
    "scrolled": true
   },
   "outputs": [],
   "source": [
    "print(table.to_latex())"
   ]
  },
  {
   "cell_type": "code",
   "execution_count": null,
   "id": "1468a80e",
   "metadata": {},
   "outputs": [],
   "source": [
    "# https://github.com/miykael/atlasreader/blob/master/notebooks/atlasreader.ipynb\n",
    "from atlasreader import create_output\n",
    "create_output(bccwj_rnng_td_thresholded, cluster_extent=3)"
   ]
  },
  {
   "cell_type": "code",
   "execution_count": null,
   "id": "2a29e82a",
   "metadata": {},
   "outputs": [],
   "source": [
    "roi_rnng_td_peak = pd.read_csv('./atlasreader_peaks.csv')\n",
    "roi_rnng_td_peak"
   ]
  },
  {
   "cell_type": "code",
   "execution_count": null,
   "id": "ffbf5167",
   "metadata": {
    "scrolled": true
   },
   "outputs": [],
   "source": [
    "print(roi_rnng_td_peak.to_latex())"
   ]
  },
  {
   "cell_type": "markdown",
   "id": "f112969c",
   "metadata": {},
   "source": [
    "# surp_RNNG_LC"
   ]
  },
  {
   "cell_type": "code",
   "execution_count": null,
   "id": "eb280385",
   "metadata": {},
   "outputs": [],
   "source": [
    "bccwj_rnng_lc_files = natsorted(glob.glob(f\"./glm/surp_rnng_lc/*rnng_lc*\"))\n",
    "design_matrix = pd.DataFrame([1] * len(bccwj_rnng_lc_files), columns=['intercept'])\n",
    "\n",
    "bccwj_rnng_lc_model = SecondLevelModel(smoothing_fwhm=8.0,  mask_img=resampled_yeo_binary\n",
    "                            )\n",
    "bccwj_rnng_lc_model = bccwj_rnng_lc_model.fit(bccwj_rnng_lc_files, design_matrix=design_matrix)\n",
    "\n",
    "bccwj_rnng_lc_map = bccwj_rnng_lc_model.compute_contrast(output_type='z_score')"
   ]
  },
  {
   "cell_type": "code",
   "execution_count": null,
   "id": "91121366",
   "metadata": {},
   "outputs": [],
   "source": [
    "bccwj_rnng_lc_thresholded, bccwj_rnng_lc_threshold = threshold_stats_img(bccwj_rnng_lc_map, \n",
    "                                                                     alpha=.05, \n",
    "                                                                     two_sided=False, \n",
    "                                                                     cluster_threshold=100,\n",
    "                                                                     #height_control='fdr'\n",
    "                                                                  )\n",
    "print(bccwj_rnng_lc_threshold)\n",
    "plotting.plot_glass_brain(bccwj_rnng_lc_thresholded,plot_abs=False, \n",
    "                          threshold = bccwj_rnng_lc_threshold,\n",
    "                          display_mode='lyrz',\n",
    "                          colorbar=True)\n",
    "plt.savefig('surprnnglc')"
   ]
  },
  {
   "cell_type": "code",
   "execution_count": null,
   "id": "0c9be3fe",
   "metadata": {},
   "outputs": [],
   "source": [
    "table = get_clusters_table(stat_img = bccwj_rnng_lc_thresholded,\n",
    "                           stat_threshold=bccwj_rnng_lc_threshold,\n",
    "                           two_sided=True)\n",
    "\n",
    "table = table.round({'X':0,'Y':0,'Z':0,'Peak Stat':2})\n",
    "table.drop(columns='Cluster ID',inplace=True)\n",
    "table=table[['Cluster Size (mm3)','X','Y','Z','Peak Stat']]\n",
    "table"
   ]
  },
  {
   "cell_type": "code",
   "execution_count": null,
   "id": "a5c46f2e",
   "metadata": {},
   "outputs": [],
   "source": [
    "print(table.to_latex())"
   ]
  },
  {
   "cell_type": "code",
   "execution_count": null,
   "id": "cc94fd40",
   "metadata": {},
   "outputs": [],
   "source": [
    "# https://github.com/miykael/atlasreader/blob/master/notebooks/atlasreader.ipynb\n",
    "from atlasreader import create_output\n",
    "create_output(bccwj_rnng_lc_thresholded, cluster_extent=3)"
   ]
  },
  {
   "cell_type": "code",
   "execution_count": null,
   "id": "b7929331",
   "metadata": {},
   "outputs": [],
   "source": [
    "roi_rnng_lc_peak = pd.read_csv('./atlasreader_peaks.csv')\n",
    "roi_rnng_lc_peak"
   ]
  },
  {
   "cell_type": "code",
   "execution_count": null,
   "id": "38a4182d",
   "metadata": {},
   "outputs": [],
   "source": [
    "print(roi_rnng_lc_peak.to_latex())"
   ]
  },
  {
   "cell_type": "code",
   "execution_count": null,
   "id": "4f2b79b1",
   "metadata": {},
   "outputs": [],
   "source": []
  },
  {
   "cell_type": "markdown",
   "id": "f4294ec5",
   "metadata": {},
   "source": [
    "## dis_RNNG_TD"
   ]
  },
  {
   "cell_type": "code",
   "execution_count": null,
   "id": "36cbe19e",
   "metadata": {},
   "outputs": [],
   "source": [
    "bccwj_dis_rnng_td_files = natsorted(glob.glob(f\"./glm/dis_rnng_td/*dis_rnng_td*\"))\n",
    "design_matrix = pd.DataFrame([1] * len(bccwj_dis_rnng_td_files), columns=['intercept'])\n",
    "\n",
    "bccwj_dis_rnng_td_model = SecondLevelModel(smoothing_fwhm=8.0,mask_img=resampled_yeo_binary\n",
    "                            ) \n",
    "bccwj_dis_rnng_td_model = bccwj_dis_rnng_td_model.fit(bccwj_dis_rnng_td_files, design_matrix=design_matrix)\n",
    "\n",
    "bccwj_dis_rnng_td_map = bccwj_dis_rnng_td_model.compute_contrast(output_type='z_score')"
   ]
  },
  {
   "cell_type": "code",
   "execution_count": null,
   "id": "e9da37e4",
   "metadata": {},
   "outputs": [],
   "source": [
    "bccwj_dis_rnng_td_thresholded, bccwj_dis_rnng_td_threshold = threshold_stats_img(bccwj_dis_rnng_td_map, \n",
    "                                                                             alpha=.05,\n",
    "                                                                             height_control = 'fdr',\n",
    "                                                                             two_sided=False,\n",
    "                                                                             cluster_threshold=100)\n",
    "print(bccwj_dis_rnng_td_threshold)\n",
    "plotting.plot_glass_brain(bccwj_dis_rnng_td_thresholded,plot_abs=False, \n",
    "                          threshold = bccwj_dis_rnng_td_threshold,\n",
    "                          display_mode='lyrz',\n",
    "                          colorbar=True)\n",
    "plt.savefig('disrnngtd')"
   ]
  },
  {
   "cell_type": "code",
   "execution_count": null,
   "id": "b103dbaa",
   "metadata": {},
   "outputs": [],
   "source": [
    "# https://github.com/miykael/atlasreader/blob/master/notebooks/atlasreader.ipynb\n",
    "from atlasreader import create_output\n",
    "create_output(bccwj_dis_rnng_td_thresholded, cluster_extent=3)"
   ]
  },
  {
   "cell_type": "code",
   "execution_count": null,
   "id": "939bb3d2",
   "metadata": {},
   "outputs": [],
   "source": [
    "roi_dis_rnng_td_peak = pd.read_csv('./atlasreader_peaks.csv')\n",
    "roi_dis_rnng_td_peak"
   ]
  },
  {
   "cell_type": "code",
   "execution_count": null,
   "id": "04c23ea6",
   "metadata": {},
   "outputs": [],
   "source": [
    "print(roi_dis_rnng_td_peak.to_latex())"
   ]
  },
  {
   "cell_type": "markdown",
   "id": "62a8c28f",
   "metadata": {},
   "source": [
    "##  dis_RNNG_LC "
   ]
  },
  {
   "cell_type": "code",
   "execution_count": null,
   "id": "968d87d2",
   "metadata": {},
   "outputs": [],
   "source": [
    "bccwj_dis_rnng_lc_files = natsorted(glob.glob(f\"./glm/dis_rnng_lc/*dis_rnng_lc*\"))\n",
    "design_matrix = pd.DataFrame([1] * len(bccwj_dis_rnng_lc_files), columns=['intercept'])\n",
    "\n",
    "bccwj_dis_rnng_lc_model = SecondLevelModel(smoothing_fwhm=8.0,mask_img=resampled_yeo_binary\n",
    "                            ) \n",
    "bccwj_dis_rnng_lc_model = bccwj_dis_rnng_lc_model.fit(bccwj_dis_rnng_lc_files, design_matrix=design_matrix)\n",
    "\n",
    "bccwj_dis_rnng_lc_map = bccwj_dis_rnng_lc_model.compute_contrast(output_type='z_score')"
   ]
  },
  {
   "cell_type": "code",
   "execution_count": null,
   "id": "0c7f430d",
   "metadata": {},
   "outputs": [],
   "source": [
    "bccwj_dis_rnng_lc_thresholded, bccwj_dis_rnng_lc_threshold = threshold_stats_img(bccwj_dis_rnng_lc_map, \n",
    "                                                                             alpha=.05,\n",
    "                                                                             #height_control = 'fdr',\n",
    "                                                                             two_sided=False,\n",
    "                                                                             cluster_threshold=100)\n",
    "print(bccwj_dis_rnng_lc_threshold)\n",
    "plotting.plot_glass_brain(bccwj_dis_rnng_lc_thresholded,plot_abs=False, \n",
    "                          threshold = bccwj_dis_rnng_lc_threshold,\n",
    "                          display_mode='lyrz',\n",
    "                          colorbar=True)\n",
    "plt.savefig('disrnnglc')"
   ]
  },
  {
   "cell_type": "code",
   "execution_count": null,
   "id": "97107f05",
   "metadata": {},
   "outputs": [],
   "source": [
    "# https://github.com/miykael/atlasreader/blob/master/notebooks/atlasreader.ipynb\n",
    "from atlasreader import create_output\n",
    "create_output(bccwj_dis_rnng_lc_thresholded, cluster_extent=3)"
   ]
  },
  {
   "cell_type": "code",
   "execution_count": null,
   "id": "d0bda891",
   "metadata": {},
   "outputs": [],
   "source": [
    "roi_dis_rnng_lc_peak = pd.read_csv('/Users/osekilab1/Desktop/BCCWJ-fMRI-ts/notebooks/atlasreader_peaks.csv')\n",
    "roi_dis_rnng_lc_peak"
   ]
  },
  {
   "cell_type": "code",
   "execution_count": null,
   "id": "0bed880f",
   "metadata": {},
   "outputs": [],
   "source": []
  }
 ],
 "metadata": {
  "kernelspec": {
   "display_name": "Python 3 (ipykernel)",
   "language": "python",
   "name": "python3"
  },
  "language_info": {
   "codemirror_mode": {
    "name": "ipython",
    "version": 3
   },
   "file_extension": ".py",
   "mimetype": "text/x-python",
   "name": "python",
   "nbconvert_exporter": "python",
   "pygments_lexer": "ipython3",
   "version": "3.9.12"
  }
 },
 "nbformat": 4,
 "nbformat_minor": 5
}
