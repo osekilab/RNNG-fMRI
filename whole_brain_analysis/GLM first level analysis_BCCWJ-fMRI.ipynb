{
 "cells": [
  {
   "cell_type": "markdown",
   "id": "7b5793eb",
   "metadata": {},
   "source": [
    "### The code is based on https://github.com/dgd45125/LPPxORCxEN-CN/tree/main/GLM_analyses"
   ]
  },
  {
   "cell_type": "markdown",
   "id": "1f5ff2fa",
   "metadata": {},
   "source": [
    "# Whole Brain Analysis: GLM first level analysis"
   ]
  },
  {
   "cell_type": "markdown",
   "id": "5dfd9b97",
   "metadata": {},
   "source": [
    "# GLM first level "
   ]
  },
  {
   "cell_type": "code",
   "execution_count": null,
   "id": "6b877e80",
   "metadata": {},
   "outputs": [],
   "source": [
    "import pandas as pd\n",
    "import numpy as np\n",
    "\n",
    "from nilearn import plotting\n",
    "from nilearn.glm.first_level import FirstLevelModel\n",
    "from nilearn.glm.second_level import SecondLevelModel\n",
    "from nilearn.image import threshold_img\n",
    "from nilearn.glm import threshold_stats_img\n",
    "from nilearn import surface\n",
    "from nilearn import datasets\n",
    "from nilearn.reporting import get_clusters_table\n",
    "from nilearn.image import resample_to_img\n",
    "from nilearn.input_data import NiftiMasker, NiftiLabelsMasker\n",
    "#from nilearn.maskers import NiftiLabelsMasker\n",
    "\n",
    "import glob\n",
    "\n",
    "from natsort import natsorted\n",
    "\n",
    "import matplotlib.pyplot as plt"
   ]
  },
  {
   "cell_type": "markdown",
   "id": "c8eb2eb3",
   "metadata": {},
   "source": [
    "# Loading BCCWJ-fMRI-Regressor"
   ]
  },
  {
   "cell_type": "code",
   "execution_count": null,
   "id": "2737b630",
   "metadata": {},
   "outputs": [],
   "source": [
    "lstm_rnng_regressors = pd.read_csv('./Predictors_March-31-1-all-predictors_orthogonal_2023.tsv',sep= '\\t')\n",
    "lstm_rnng_regressors"
   ]
  },
  {
   "cell_type": "markdown",
   "id": "4df58f2c",
   "metadata": {},
   "source": [
    "## making design matrix"
   ]
  },
  {
   "cell_type": "code",
   "execution_count": null,
   "id": "3eb6041f",
   "metadata": {},
   "outputs": [],
   "source": [
    "lstm_rnng_regressors = pd.read_csv('./Predictors_March-31-1-all-predictors_orthogonal_2023.tsv',sep= '\\t')\n",
    "lstm_rnng_regressors['constant'] = np.ones(len(lstm_rnng_regressors))\n",
    "\n",
    "lstm_rnng_regressors1 = lstm_rnng_regressors[lstm_rnng_regressors.section_number==1].drop(columns=['section_number'])\n",
    "lstm_rnng_regressors1 = (lstm_rnng_regressors1-lstm_rnng_regressors1.mean())/lstm_rnng_regressors1.std()\n",
    "lstm_rnng_regressors1['constant'] = np.ones(len(lstm_rnng_regressors1))\n",
    "\n",
    "lstm_rnng_regressors2 = lstm_rnng_regressors[lstm_rnng_regressors.section_number==2].drop(columns=['section_number'])\n",
    "lstm_rnng_regressors2 = (lstm_rnng_regressors2-lstm_rnng_regressors2.mean())/lstm_rnng_regressors2.std()\n",
    "lstm_rnng_regressors2['constant'] = np.ones(len(lstm_rnng_regressors2))\n",
    "\n",
    "lstm_rnng_regressors3 = lstm_rnng_regressors[lstm_rnng_regressors.section_number==3].drop(columns=['section_number'])\n",
    "lstm_rnng_regressors3 = (lstm_rnng_regressors3-lstm_rnng_regressors3.mean())/lstm_rnng_regressors3.std()\n",
    "lstm_rnng_regressors3['constant'] = np.ones(len(lstm_rnng_regressors3))\n",
    "\n",
    "lstm_rnng_regressors4 = lstm_rnng_regressors[lstm_rnng_regressors.section_number==4].drop(columns=['section_number'])\n",
    "lstm_rnng_regressors4 = (lstm_rnng_regressors4-lstm_rnng_regressors3.mean())/lstm_rnng_regressors4.std()\n",
    "lstm_rnng_regressors4['constant'] = np.ones(len(lstm_rnng_regressors4))\n",
    "\n",
    "lstm_rnng_design_matrices = [lstm_rnng_regressors1,lstm_rnng_regressors2,lstm_rnng_regressors3,lstm_rnng_regressors4]\n",
    "for dmx in lstm_rnng_design_matrices:\n",
    "    print(len(dmx))"
   ]
  },
  {
   "cell_type": "code",
   "execution_count": null,
   "id": "5752b1f7",
   "metadata": {},
   "outputs": [],
   "source": [
    "plotting.plot_design_matrix(lstm_rnng_design_matrices[0])\n",
    "plt.savefig('design matrices')"
   ]
  },
  {
   "cell_type": "code",
   "execution_count": null,
   "id": "f13a5f71",
   "metadata": {},
   "outputs": [],
   "source": [
    "bccwj_subjects = natsorted(glob.glob(\"./data/nii/*\"))\n",
    "bccwj_subjects"
   ]
  },
  {
   "cell_type": "code",
   "execution_count": null,
   "id": "d4936f58",
   "metadata": {},
   "outputs": [],
   "source": [
    "natsorted(glob.glob(f\"{bccwj_subjects[0]}/**\"))"
   ]
  },
  {
   "cell_type": "code",
   "execution_count": null,
   "id": "4f89e15d",
   "metadata": {},
   "outputs": [],
   "source": [
    "for i in range(len(bccwj_subjects)):\n",
    "#for i in range(1):\n",
    "    try:\n",
    "        print(bccwj_subjects[i])\n",
    "        \n",
    "        bccwj_glm = FirstLevelModel(\n",
    "                    t_r = 2.0,\n",
    "                    hrf_model='spm',\n",
    "                    noise_model='ar1',\n",
    "                    smoothing_fwhm=None,\n",
    "                    n_jobs=1,\n",
    "                    standardize=True,\n",
    "                    verbose=1\n",
    "                    )\n",
    "        bccwj_glm = bccwj_glm.fit(natsorted(glob.glob(f\"{bccwj_subjects[i]}/*\")),\n",
    "                                     design_matrices=lstm_rnng_design_matrices)\n",
    "        \n",
    "        word_rate_eff_map = bccwj_glm.compute_contrast(contrast_def='word_rate',output_type='effect_size')\n",
    "        word_rate_eff_map.to_filename(f\"./glm/word_rate/subj{i}_word_rate.nii\")  \n",
    "        \n",
    "        word_length_eff_map = bccwj_glm.compute_contrast(contrast_def='word_length',output_type='effect_size')\n",
    "        word_length_eff_map.to_filename(f\"./glm/word_length/subj{i}_word_length.nii\") \n",
    "        \n",
    "        word_freq_eff_map = bccwj_glm.compute_contrast(contrast_def='word_freq',output_type='effect_size')\n",
    "        word_freq_eff_map.to_filename(f\"./glm/word_freq/subj{i}_word_freq.nii\") \n",
    "        \n",
    "        sent_id_eff_map = bccwj_glm.compute_contrast(contrast_def='sentid',output_type='effect_size')\n",
    "        sent_id_eff_map.to_filename(f\"./glm/sent_id/subj{i}_sent_id.nii\")\n",
    "        \n",
    "        sent_pos_eff_map = bccwj_glm.compute_contrast(contrast_def='sentpos',output_type='effect_size')\n",
    "        sent_pos_eff_map.to_filename(f\"./glm/sent_pos/subj{i}_sentpos.nii\")\n",
    "        \n",
    "        surp_ngram_five_eff_map = bccwj_glm.compute_contrast(contrast_def='surp.ngram_five',output_type='effect_size')\n",
    "        surp_ngram_five_eff_map.to_filename(f\"./glm/ngram/subj{i}_ngram.nii\")\n",
    "        \n",
    "        surp_lstm_eff_map = bccwj_glm.compute_contrast(contrast_def='surp.LSTM',output_type='effect_size')\n",
    "        surp_lstm_eff_map.to_filename(f\"./glm/lstm/subj{i}_lstm.nii\")\n",
    "        \n",
    "        surp_rnng_td_eff_map = bccwj_glm.compute_contrast(contrast_def='surp.RNNG_TD',output_type='effect_size')\n",
    "        surp_rnng_td_eff_map.to_filename(f\"./glm/surp_rnng_td/subj{i}_surp_rnng_td.nii\")\n",
    "        \n",
    "        surp_rnng_lc_eff_map = bccwj_glm.compute_contrast(contrast_def='surp.RNNG_LC',output_type='effect_size')\n",
    "        surp_rnng_lc_eff_map.to_filename(f\"./glm/surp_rnng_lc/subj{i}_surp_rnng_lc.nii\")\n",
    "        \n",
    "        dis_rnng_td_eff_map = bccwj_glm.compute_contrast(contrast_def='dis_RNNG_TD',output_type='effect_size')\n",
    "        dis_rnng_td_eff_map.to_filename(f\"./glm/dis_rnng_td/subj{i}_dis_rnng_td.nii\")\n",
    "        \n",
    "        dis_rnng_lc_eff_map = bccwj_glm.compute_contrast(contrast_def='dis_RNNG_LC',output_type='effect_size')\n",
    "        dis_rnng_lc_eff_map.to_filename(f\"./glm/dis_rnng_lc/subj{i}_dis_rnng_lc.nii\")\n",
    "        \n",
    "    except:\n",
    "        print(\"something went wrong\")  "
   ]
  },
  {
   "cell_type": "code",
   "execution_count": null,
   "id": "1da893ca",
   "metadata": {},
   "outputs": [],
   "source": []
  },
  {
   "cell_type": "code",
   "execution_count": null,
   "id": "388f8294",
   "metadata": {},
   "outputs": [],
   "source": []
  },
  {
   "cell_type": "code",
   "execution_count": null,
   "id": "376132ac",
   "metadata": {},
   "outputs": [],
   "source": []
  }
 ],
 "metadata": {
  "kernelspec": {
   "display_name": "Python 3 (ipykernel)",
   "language": "python",
   "name": "python3"
  },
  "language_info": {
   "codemirror_mode": {
    "name": "ipython",
    "version": 3
   },
   "file_extension": ".py",
   "mimetype": "text/x-python",
   "name": "python",
   "nbconvert_exporter": "python",
   "pygments_lexer": "ipython3",
   "version": "3.9.12"
  }
 },
 "nbformat": 4,
 "nbformat_minor": 5
}
