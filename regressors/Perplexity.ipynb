{
 "cells": [
  {
   "cell_type": "markdown",
   "id": "048f0847",
   "metadata": {},
   "source": [
    "# Perplexity"
   ]
  },
  {
   "cell_type": "markdown",
   "id": "0938a6ef",
   "metadata": {},
   "source": [
    "## Import"
   ]
  },
  {
   "cell_type": "code",
   "execution_count": null,
   "id": "008a3a6e",
   "metadata": {},
   "outputs": [],
   "source": [
    "import numpy as np\n",
    "import math\n",
    "import pandas as pd"
   ]
  },
  {
   "cell_type": "code",
   "execution_count": null,
   "id": "b1198da5",
   "metadata": {},
   "outputs": [],
   "source": [
    "ts_all = pd.read_csv('./TS_ALL.tsv',sep='\\t')\n",
    "ts_all"
   ]
  },
  {
   "cell_type": "code",
   "execution_count": null,
   "id": "596e49a2",
   "metadata": {},
   "outputs": [],
   "source": [
    "math.e**(ts_all['surp_ngram_five'].sum() / 6939)"
   ]
  },
  {
   "cell_type": "code",
   "execution_count": null,
   "id": "84401528",
   "metadata": {},
   "outputs": [],
   "source": [
    "math.e**(ts_all['surp_LSTM_1'].sum() / 6939)"
   ]
  },
  {
   "cell_type": "code",
   "execution_count": null,
   "id": "896b7868",
   "metadata": {},
   "outputs": [],
   "source": [
    "math.e**(ts_all['surp_RNNG_LC_1_1'].sum() / 6939)"
   ]
  },
  {
   "cell_type": "code",
   "execution_count": null,
   "id": "5c9b562c",
   "metadata": {},
   "outputs": [],
   "source": [
    "math.e**(ts_all['surp_RNNG_LC_1_2'].sum() / 6939)"
   ]
  },
  {
   "cell_type": "code",
   "execution_count": null,
   "id": "70cb55db",
   "metadata": {},
   "outputs": [],
   "source": [
    "math.e**(ts_all['surp_RNNG_LC_1_4'].sum() / 6939)"
   ]
  },
  {
   "cell_type": "code",
   "execution_count": null,
   "id": "6f4ccf8c",
   "metadata": {},
   "outputs": [],
   "source": [
    "math.e**(ts_all['surp_RNNG_LC_1_6'].sum() / 6939)"
   ]
  },
  {
   "cell_type": "code",
   "execution_count": null,
   "id": "b926c1e7",
   "metadata": {},
   "outputs": [],
   "source": [
    "math.e**(ts_all['surp_RNNG_LC_1_8'].sum() / 6939)"
   ]
  },
  {
   "cell_type": "code",
   "execution_count": null,
   "id": "cf98ae31",
   "metadata": {},
   "outputs": [],
   "source": [
    "math.e**(ts_all['surp_RNNG_LC_1_10'].sum() / 6939)"
   ]
  },
  {
   "cell_type": "code",
   "execution_count": null,
   "id": "42ea9b97",
   "metadata": {},
   "outputs": [],
   "source": [
    "math.e**(ts_all['surp_RNNG_TD_2_1'].sum() / 6939)"
   ]
  },
  {
   "cell_type": "code",
   "execution_count": null,
   "id": "011ecdc0",
   "metadata": {},
   "outputs": [],
   "source": [
    "math.e**(ts_all['surp_RNNG_TD_2_2'].sum() / 6939)"
   ]
  },
  {
   "cell_type": "code",
   "execution_count": null,
   "id": "7fa1abf8",
   "metadata": {},
   "outputs": [],
   "source": [
    "math.e**(ts_all['surp_RNNG_TD_2_4'].sum() / 6939)"
   ]
  },
  {
   "cell_type": "code",
   "execution_count": null,
   "id": "ca81fa59",
   "metadata": {},
   "outputs": [],
   "source": [
    "math.e**(ts_all['surp_RNNG_TD_2_6'].sum() / 6939)"
   ]
  },
  {
   "cell_type": "code",
   "execution_count": null,
   "id": "6bee9441",
   "metadata": {},
   "outputs": [],
   "source": [
    "math.e**(ts_all['surp_RNNG_TD_2_8'].sum() / 6939)"
   ]
  },
  {
   "cell_type": "code",
   "execution_count": null,
   "id": "c74ceba3",
   "metadata": {},
   "outputs": [],
   "source": [
    "math.e**(ts_all['surp_RNNG_TD_2_10'].sum() / 6939)"
   ]
  }
 ],
 "metadata": {
  "kernelspec": {
   "display_name": "Python 3 (ipykernel)",
   "language": "python",
   "name": "python3"
  },
  "language_info": {
   "codemirror_mode": {
    "name": "ipython",
    "version": 3
   },
   "file_extension": ".py",
   "mimetype": "text/x-python",
   "name": "python",
   "nbconvert_exporter": "python",
   "pygments_lexer": "ipython3",
   "version": "3.9.12"
  }
 },
 "nbformat": 4,
 "nbformat_minor": 5
}
