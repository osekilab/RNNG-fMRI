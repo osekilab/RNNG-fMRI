{
 "cells": [
  {
   "cell_type": "markdown",
   "id": "a47d5688",
   "metadata": {},
   "source": [
    "# Creating a big csv file (fMRIdata + regressors) "
   ]
  },
  {
   "cell_type": "markdown",
   "id": "e37ce284",
   "metadata": {},
   "source": [
    "## Import"
   ]
  },
  {
   "cell_type": "code",
   "execution_count": null,
   "id": "0a7f94e3",
   "metadata": {},
   "outputs": [],
   "source": [
    "import glob\n",
    "import os\n",
    "from typing import Tuple\n",
    "\n",
    "import nibabel as nib\n",
    "from nideconv.utils import roi\n",
    "\n",
    "import nilearn\n",
    "from nilearn import datasets\n",
    "from nilearn.input_data import NiftiLabelsMasker\n",
    "import numpy as np\n",
    "import pandas as pd"
   ]
  },
  {
   "cell_type": "code",
   "execution_count": null,
   "id": "3f79530b",
   "metadata": {},
   "outputs": [],
   "source": [
    "#Regressors\n",
    "A = pd.read_csv('../data/model-regressors/regressors_A.csv')\n",
    "B = pd.read_csv('../data/model-regressors/regressors_B.csv')\n",
    "C = pd.read_csv('../data/model-regressors/regressors_C.csv')\n",
    "D = pd.read_csv('../data/model-regressors/regressors_D.csv')"
   ]
  },
  {
   "cell_type": "code",
   "execution_count": null,
   "id": "d6cbed4a",
   "metadata": {},
   "outputs": [],
   "source": [
    "section2regressor = {\n",
    "    'A': A,\n",
    "    'B': B,\n",
    "    'C': C,\n",
    "    'D': D,\n",
    "}"
   ]
  },
  {
   "cell_type": "code",
   "execution_count": null,
   "id": "8c148767",
   "metadata": {},
   "outputs": [],
   "source": [
    "ATLAS = datasets.fetch_atlas_aal(\n",
    "    version='SPM12', \n",
    "    resume=True,verbose=1\n",
    ")\n",
    "ATLAS_FILENAME = ATLAS.maps"
   ]
  },
  {
   "cell_type": "code",
   "execution_count": null,
   "id": "7f9e44fc",
   "metadata": {},
   "outputs": [],
   "source": [
    "MASKER = NiftiLabelsMasker(\n",
    "    labels_img=ATLAS_FILENAME, \n",
    "    resampling_target = \"data\", \n",
    "    t_r=2.0,\n",
    "    detrend=True,\n",
    "    standardize=True\n",
    ")"
   ]
  },
  {
   "cell_type": "code",
   "execution_count": null,
   "id": "71f0b1b6",
   "metadata": {},
   "outputs": [],
   "source": [
    "DROP_COLNAMES = [ ]"
   ]
  },
  {
   "cell_type": "code",
   "execution_count": null,
   "id": "6c2ad51a",
   "metadata": {},
   "outputs": [],
   "source": [
    "RP_COLUMNS = ['dx', 'dy', 'dz', 'rx', 'ry', 'rz']"
   ]
  },
  {
   "cell_type": "code",
   "execution_count": null,
   "id": "d7be87b1",
   "metadata": {},
   "outputs": [],
   "source": [
    "def niipath2names(nii_path: str) -> Tuple[str]:\n",
    "    split_nii_path = nii_path.split(os.sep)\n",
    "    \n",
    "    section = split_nii_path[3]\n",
    "    subj = split_nii_path[4]\n",
    "    \n",
    "    return section, subj"
   ]
  },
  {
   "cell_type": "code",
   "execution_count": null,
   "id": "32f671ef",
   "metadata": {},
   "outputs": [],
   "source": [
    "def niipath2rppath(nii_path: str) -> str:\n",
    "    split_nii_path = nii_path.split(os.sep)\n",
    "    \n",
    "    split_nii_path[2] = 'rp'\n",
    "    split_nii_path[-1] = split_nii_path[-1].replace('swu', 'rp_').replace('.nii', '.txt')\n",
    "    \n",
    "    return '/'.join(split_nii_path)"
   ]
  },
  {
   "cell_type": "code",
   "execution_count": null,
   "id": "68dc85e5",
   "metadata": {},
   "outputs": [],
   "source": [
    "def load_rp(rp_path: str) -> pd.DataFrame:\n",
    "    with open(rp_path) as f:\n",
    "        rows = [\n",
    "            list(map(float, line.split())) for line in f\n",
    "        ]\n",
    "    return pd.DataFrame(rows, columns=RP_COLUMNS)"
   ]
  },
  {
   "cell_type": "code",
   "execution_count": null,
   "id": "da9913f0",
   "metadata": {},
   "outputs": [],
   "source": [
    "def concat_nii_and_regressor(nii_path: str, section: str) -> pd.DataFrame:\n",
    "    nii_image = nib.load(nii_path)\n",
    "    \n",
    "    ts = roi.extract_timecourse_from_nii(\n",
    "        ATLAS,\n",
    "        nii_image,\n",
    "        t_r=2.0,\n",
    "    )\n",
    "    ts.columns.name = None\n",
    "    ts = ts.reset_index()\n",
    "    \n",
    "    # concat rp data\n",
    "    rp_path = niipath2rppath(nii_path)\n",
    "    rp = load_rp(rp_path)\n",
    "    ts = pd.concat([ts, rp], axis=1)\n",
    "    \n",
    "    regressor = section2regressor[section]\n",
    "    concat_data = ts.merge(regressor, on='time')\n",
    "    \n",
    "    concat_data_selected = concat_data.drop(DROP_COLNAMES, axis=1)\n",
    "    \n",
    "    return concat_data_selected"
   ]
  },
  {
   "cell_type": "code",
   "execution_count": null,
   "id": "081a3e48",
   "metadata": {},
   "outputs": [],
   "source": [
    "def make_savepath(section: str, subj: str) -> str:    \n",
    "    save_root = os.path.join(\n",
    "        '../data/Results-ts', section, subj\n",
    "    )\n",
    "    os.makedirs(save_root, exist_ok=True)\n",
    "    \n",
    "    save_path = os.path.join(\n",
    "        save_root, f'ts.csv'\n",
    "    )\n",
    "    return save_path"
   ]
  },
  {
   "cell_type": "code",
   "execution_count": null,
   "id": "86f17680",
   "metadata": {},
   "outputs": [],
   "source": [
    "nii_paths = [\n",
    "    p for p in glob.glob('../data/nii/**', recursive=True) if os.path.isfile(p)\n",
    "]"
   ]
  },
  {
   "cell_type": "code",
   "execution_count": null,
   "id": "21476658",
   "metadata": {},
   "outputs": [],
   "source": [
    "# DO nii2csv\n",
    "for nii_path in nii_paths:\n",
    "    section, subj = niipath2names(nii_path)\n",
    "    df = concat_nii_and_regressor(nii_path, section)\n",
    "    save_path = make_savepath(section, subj)\n",
    "    df.to_csv(save_path, sep='\\t', index=False)"
   ]
  },
  {
   "cell_type": "code",
   "execution_count": null,
   "id": "c031a939",
   "metadata": {},
   "outputs": [],
   "source": [
    "def csvpath2subjid(csv_path: str) -> str:\n",
    "    split_csv_path = csv_path.split(os.sep)\n",
    "    \n",
    "    subj_str = split_csv_path[-2]\n",
    "    subj_int = int(subj_str.replace('sub', ''))\n",
    "    return subj_int"
   ]
  },
  {
   "cell_type": "code",
   "execution_count": null,
   "id": "f154efba",
   "metadata": {},
   "outputs": [],
   "source": [
    "def make_savepath_section(section: str) -> str:    \n",
    "    save_root = os.path.join(\n",
    "        '../data/Results-ts/concat', section,\n",
    "    )\n",
    "    os.makedirs(save_root, exist_ok=True)\n",
    "    \n",
    "    save_path = os.path.join(\n",
    "        save_root, f'ts.csv'\n",
    "    )\n",
    "    return save_path"
   ]
  },
  {
   "cell_type": "code",
   "execution_count": null,
   "id": "3d305289",
   "metadata": {},
   "outputs": [],
   "source": [
    "# DO concat section\n",
    "SECTIONS = [\n",
    "    'A', \n",
    "    'B', \n",
    "    'C', \n",
    "    'D'\n",
    "]\n",
    "for section in SECTIONS:\n",
    "    csv_paths = [\n",
    "        p for p in glob.glob(f'../data/Results-ts/{section}/**/*.csv')\n",
    "    ]\n",
    "    csv_paths = sorted(csv_paths)\n",
    "    subj_dfs = []\n",
    "    for csv_path in csv_paths:\n",
    "        subj_df = pd.read_csv(csv_path, sep='\\t')\n",
    "        subj_id = csvpath2subjid(csv_path)\n",
    "        subj_df['subject_number'] = subj_id\n",
    "        subj_dfs.append(subj_df)\n",
    "        \n",
    "    section_df = pd.concat(subj_dfs).reset_index(drop=True)\n",
    "    save_path = make_savepath_section(section)\n",
    "    section_df.to_csv(save_path, sep='\\t', index=False)"
   ]
  },
  {
   "cell_type": "code",
   "execution_count": null,
   "id": "bc58e57e",
   "metadata": {},
   "outputs": [],
   "source": [
    "# DO concat all\n",
    "section_csv_paths = [\n",
    "    p for p in glob.glob(f'../data/Results-ts/concat/**/*.csv')\n",
    "]\n",
    "section_csv_paths = sorted(section_csv_paths)\n",
    "section_dfs = [\n",
    "    pd.read_csv(section_csv_path, sep='\\t') for section_csv_path in section_csv_paths\n",
    "]\n",
    "all_df = pd.concat(section_dfs).reset_index(drop=True)\n",
    "\n",
    "new_dir_path = '../data/Results-ts/all'\n",
    "os.makedirs(new_dir_path, exist_ok=True)\n",
    "save_path = f'../data/Results-ts/all/ts.csv'\n",
    "all_df.to_csv(save_path, sep='\\t', index=False)"
   ]
  },
  {
   "cell_type": "code",
   "execution_count": null,
   "id": "dc2909e1",
   "metadata": {},
   "outputs": [],
   "source": []
  }
 ],
 "metadata": {
  "kernelspec": {
   "display_name": "Python 3 (ipykernel)",
   "language": "python",
   "name": "python3"
  },
  "language_info": {
   "codemirror_mode": {
    "name": "ipython",
    "version": 3
   },
   "file_extension": ".py",
   "mimetype": "text/x-python",
   "name": "python",
   "nbconvert_exporter": "python",
   "pygments_lexer": "ipython3",
   "version": "3.9.12"
  }
 },
 "nbformat": 4,
 "nbformat_minor": 5
}
